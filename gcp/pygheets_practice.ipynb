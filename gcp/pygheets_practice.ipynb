{
 "cells": [
  {
   "cell_type": "code",
   "execution_count": 1,
   "id": "2e3776cb",
   "metadata": {},
   "outputs": [],
   "source": [
    "import pandas as pd\n",
    "import pygsheets\n",
    "from pygsheets.client import Client"
   ]
  },
  {
   "cell_type": "code",
   "execution_count": 2,
   "id": "08245b55",
   "metadata": {},
   "outputs": [],
   "source": [
    "BIGQUERY_CREDENTIALS_FILE_PATH = \"bigquery-user.json\""
   ]
  },
  {
   "cell_type": "code",
   "execution_count": 3,
   "id": "531972ae",
   "metadata": {},
   "outputs": [],
   "source": [
    "def get_google_sheet_client() -> Client:\n",
    "    \"\"\"Get Google Sheets client.\"\"\"\n",
    "    with open(BIGQUERY_CREDENTIALS_FILE_PATH, \"r\") as f:\n",
    "        service_account_json_str = f.read()\n",
    "    return pygsheets.authorize(\n",
    "        service_account_json=service_account_json_str,\n",
    "    )\n",
    "\n",
    "def get_gsheet_as_df(gsheet_url: str, worksheet_title: str | None = None) -> pd.DataFrame:\n",
    "    \"\"\"Return DataFrame from a specified Google Sheets worksheet.\"\"\"\n",
    "    gc = get_google_sheet_client()\n",
    "    sheet = gc.open_by_url(gsheet_url)\n",
    "    if worksheet_title:\n",
    "        return sheet.worksheet_by_title(worksheet_title).get_as_df(numerize=False)\n",
    "    return sheet.sheet1.get_as_df(numerize=False)"
   ]
  },
  {
   "cell_type": "code",
   "execution_count": 4,
   "id": "93a61392",
   "metadata": {},
   "outputs": [
    {
     "data": {
      "text/html": [
       "<div>\n",
       "<style scoped>\n",
       "    .dataframe tbody tr th:only-of-type {\n",
       "        vertical-align: middle;\n",
       "    }\n",
       "\n",
       "    .dataframe tbody tr th {\n",
       "        vertical-align: top;\n",
       "    }\n",
       "\n",
       "    .dataframe thead th {\n",
       "        text-align: right;\n",
       "    }\n",
       "</style>\n",
       "<table border=\"1\" class=\"dataframe\">\n",
       "  <thead>\n",
       "    <tr style=\"text-align: right;\">\n",
       "      <th></th>\n",
       "      <th>TransactionID</th>\n",
       "      <th>ProductID</th>\n",
       "      <th>Quantity</th>\n",
       "      <th>SaleDate</th>\n",
       "    </tr>\n",
       "  </thead>\n",
       "  <tbody>\n",
       "    <tr>\n",
       "      <th>0</th>\n",
       "      <td>103</td>\n",
       "      <td>2001</td>\n",
       "      <td>1</td>\n",
       "      <td>2024-05-07</td>\n",
       "    </tr>\n",
       "    <tr>\n",
       "      <th>1</th>\n",
       "      <td>104</td>\n",
       "      <td>2004</td>\n",
       "      <td>4</td>\n",
       "      <td>2024-05-07</td>\n",
       "    </tr>\n",
       "    <tr>\n",
       "      <th>2</th>\n",
       "      <td>105</td>\n",
       "      <td>2004</td>\n",
       "      <td>4</td>\n",
       "      <td>2024-05-08</td>\n",
       "    </tr>\n",
       "  </tbody>\n",
       "</table>\n",
       "</div>"
      ],
      "text/plain": [
       "  TransactionID ProductID Quantity    SaleDate\n",
       "0           103      2001        1  2024-05-07\n",
       "1           104      2004        4  2024-05-07\n",
       "2           105      2004        4  2024-05-08"
      ]
     },
     "execution_count": 4,
     "metadata": {},
     "output_type": "execute_result"
    }
   ],
   "source": [
    "gsheets_url = \"https://docs.google.com/spreadsheets/d/1DfZ4g_-Qid2KQUNHiF23mnI-ins94RZ-lVeIls-N-Rw\"\n",
    "\n",
    "df = get_gsheet_as_df(gsheets_url, \"demo_sheet\")\n",
    "\n",
    "df"
   ]
  },
  {
   "cell_type": "code",
   "execution_count": 5,
   "id": "e862eab8",
   "metadata": {},
   "outputs": [],
   "source": [
    "def load_dataframe_to_google_sheets_worksheet(\n",
    "    df: pd.DataFrame,\n",
    "    spreadsheet_url: str,\n",
    "    worksheet_title: str,\n",
    "    start_address: tuple[int, int],\n",
    "    copy_head: bool = True,\n",
    ") -> None:\n",
    "    \"\"\"\n",
    "    Load DataFrame to GoogleSheets.\n",
    "\n",
    "    The object-type-columns on GoogleSheets will be forced configured to TEXT.\n",
    "    (object-type-columns: str and mixed-type contains str are considered \"object\")\n",
    "    For following example, only column object_col will be configured as TEXT on GoogleSheets.\n",
    "    >>> df = pd.DataFrame(\n",
    "            {\n",
    "                \"int_col\": [1, 2, 3],\n",
    "                \"object_col\": [4, \"8\", 9.6],\n",
    "                \"float_col\": [1, 2, 3.6],\n",
    "            },\n",
    "        )\n",
    "    >>> print(df[\"int_col\"].dtype == \"object\")  # False\n",
    "    >>> print(df[\"object_col\"].dtype == \"object\")  # True\n",
    "    >>> print(df[\"float_col\"].dtype == \"object\")  # False\n",
    "\n",
    "    :param start_address:   (2, 1) denote writing data from 2nd row and column A on Worksheet\n",
    "    \"\"\"\n",
    "    client = get_google_sheet_client()\n",
    "    spreadsheet = client.open_by_url(spreadsheet_url)\n",
    "    worksheet = spreadsheet.worksheet_by_title(worksheet_title)\n",
    "\n",
    "    # Used to generate a list of object-type-column range\n",
    "    # e.g. [\"A2:A524\", \"B2:B524\", \"D2:D524\"]\n",
    "    # worksheet.apply_format() effect only on row 2 to row 524 of column label A, etc.\n",
    "    # Column index start from 1, e.g. pygsheets.Address((0, 1)).label -> A\n",
    "    object_type_column_range_list = []\n",
    "    for column_number, column_type in enumerate(df.dtypes):\n",
    "        if column_type != \"object\":\n",
    "            continue\n",
    "\n",
    "        column_start_row_label = pygsheets.Address(\n",
    "            (start_address[0], column_number + 1),\n",
    "        ).label\n",
    "        column_end_row_label = pygsheets.Address(\n",
    "            (df.shape[0] + start_address[0] - 1, column_number + 1),\n",
    "        ).label\n",
    "        object_type_column_range_list.append(\n",
    "            f\"{column_start_row_label}:{column_end_row_label}\",\n",
    "        )\n",
    "\n",
    "    # Upload Dataframe to let GoogleSheets generate new cells\n",
    "    worksheet.set_dataframe(df=df, start=start_address, copy_head=copy_head)\n",
    "\n",
    "    # Type of columns can be configured only if cells exist\n",
    "    if object_type_column_range_list:\n",
    "        worksheet.apply_format(\n",
    "            object_type_column_range_list,\n",
    "            format_info={\n",
    "                \"numberFormat\": {\n",
    "                    \"type\": pygsheets.FormatType.TEXT.value,\n",
    "                },\n",
    "            },\n",
    "        )\n",
    "\n",
    "        # Upload DataFrame again, then cells will follow the types configured in the last step\n",
    "        worksheet.set_dataframe(df=df, start=start_address, copy_head=copy_head)"
   ]
  },
  {
   "cell_type": "code",
   "execution_count": 6,
   "id": "288d7559",
   "metadata": {},
   "outputs": [
    {
     "data": {
      "text/html": [
       "<div>\n",
       "<style scoped>\n",
       "    .dataframe tbody tr th:only-of-type {\n",
       "        vertical-align: middle;\n",
       "    }\n",
       "\n",
       "    .dataframe tbody tr th {\n",
       "        vertical-align: top;\n",
       "    }\n",
       "\n",
       "    .dataframe thead th {\n",
       "        text-align: right;\n",
       "    }\n",
       "</style>\n",
       "<table border=\"1\" class=\"dataframe\">\n",
       "  <thead>\n",
       "    <tr style=\"text-align: right;\">\n",
       "      <th></th>\n",
       "      <th>int_col</th>\n",
       "      <th>object_col</th>\n",
       "      <th>float_col</th>\n",
       "    </tr>\n",
       "  </thead>\n",
       "  <tbody>\n",
       "    <tr>\n",
       "      <th>0</th>\n",
       "      <td>1</td>\n",
       "      <td>4</td>\n",
       "      <td>1.0</td>\n",
       "    </tr>\n",
       "    <tr>\n",
       "      <th>1</th>\n",
       "      <td>2</td>\n",
       "      <td>8</td>\n",
       "      <td>2.0</td>\n",
       "    </tr>\n",
       "    <tr>\n",
       "      <th>2</th>\n",
       "      <td>3</td>\n",
       "      <td>9.6</td>\n",
       "      <td>3.6</td>\n",
       "    </tr>\n",
       "  </tbody>\n",
       "</table>\n",
       "</div>"
      ],
      "text/plain": [
       "   int_col object_col  float_col\n",
       "0        1          4        1.0\n",
       "1        2          8        2.0\n",
       "2        3        9.6        3.6"
      ]
     },
     "execution_count": 6,
     "metadata": {},
     "output_type": "execute_result"
    }
   ],
   "source": [
    "df = pd.DataFrame(\n",
    "            {\n",
    "                \"int_col\": [1, 2, 3],\n",
    "                \"object_col\": [4, \"8\", 9.6],\n",
    "                \"float_col\": [1, 2, 3.6],\n",
    "            },\n",
    "        )\n",
    "\n",
    "df"
   ]
  },
  {
   "cell_type": "code",
   "execution_count": 10,
   "id": "a3b6917f",
   "metadata": {},
   "outputs": [],
   "source": [
    "load_dataframe_to_google_sheets_worksheet(\n",
    "    df,\n",
    "    gsheets_url,\n",
    "    \"Sheet2\",\n",
    "    (1, 1)\n",
    ")"
   ]
  },
  {
   "cell_type": "code",
   "execution_count": null,
   "id": "ef23c0cd",
   "metadata": {},
   "outputs": [
    {
     "ename": "WorksheetNotFound",
     "evalue": "",
     "output_type": "error",
     "traceback": [
      "\u001b[31m---------------------------------------------------------------------------\u001b[39m",
      "\u001b[31mWorksheetNotFound\u001b[39m                         Traceback (most recent call last)",
      "\u001b[36mCell\u001b[39m\u001b[36m \u001b[39m\u001b[32mIn[11]\u001b[39m\u001b[32m, line 3\u001b[39m\n\u001b[32m      1\u001b[39m client = get_google_sheet_client()\n\u001b[32m      2\u001b[39m spreadsheet = client.open_by_url(gsheets_url)\n\u001b[32m----> \u001b[39m\u001b[32m3\u001b[39m worksheet = \u001b[43mspreadsheet\u001b[49m\u001b[43m.\u001b[49m\u001b[43mworksheet_by_title\u001b[49m\u001b[43m(\u001b[49m\u001b[33;43m\"\u001b[39;49m\u001b[33;43mSheet3\u001b[39;49m\u001b[33;43m\"\u001b[39;49m\u001b[43m)\u001b[49m\n\u001b[32m      4\u001b[39m worksheet.set_dataframe(df=df, start=(\u001b[32m1\u001b[39m,\u001b[32m1\u001b[39m), copy_head=\u001b[38;5;28;01mTrue\u001b[39;00m)\n",
      "\u001b[36mFile \u001b[39m\u001b[32m~/Library/Caches/pypoetry/virtualenvs/gcp-Y8fSvzbU-py3.12/lib/python3.12/site-packages/pygsheets/spreadsheet.py:197\u001b[39m, in \u001b[36mSpreadsheet.worksheet_by_title\u001b[39m\u001b[34m(self, title)\u001b[39m\n\u001b[32m    190\u001b[39m \u001b[38;5;28;01mdef\u001b[39;00m\u001b[38;5;250m \u001b[39m\u001b[34mworksheet_by_title\u001b[39m(\u001b[38;5;28mself\u001b[39m, title):\n\u001b[32m    191\u001b[39m \u001b[38;5;250m    \u001b[39m\u001b[33;03m\"\"\"Returns worksheet by title.\u001b[39;00m\n\u001b[32m    192\u001b[39m \n\u001b[32m    193\u001b[39m \u001b[33;03m    :param title:   Title of the sheet\u001b[39;00m\n\u001b[32m    194\u001b[39m \n\u001b[32m    195\u001b[39m \u001b[33;03m    :returns: :class:`Worksheets <Worksheet>`.\u001b[39;00m\n\u001b[32m    196\u001b[39m \u001b[33;03m    \"\"\"\u001b[39;00m\n\u001b[32m--> \u001b[39m\u001b[32m197\u001b[39m     \u001b[38;5;28;01mreturn\u001b[39;00m \u001b[38;5;28;43mself\u001b[39;49m\u001b[43m.\u001b[49m\u001b[43mworksheet\u001b[49m\u001b[43m(\u001b[49m\u001b[33;43m'\u001b[39;49m\u001b[33;43mtitle\u001b[39;49m\u001b[33;43m'\u001b[39;49m\u001b[43m,\u001b[49m\u001b[43m \u001b[49m\u001b[43mtitle\u001b[49m\u001b[43m)\u001b[49m\n",
      "\u001b[36mFile \u001b[39m\u001b[32m~/Library/Caches/pypoetry/virtualenvs/gcp-Y8fSvzbU-py3.12/lib/python3.12/site-packages/pygsheets/spreadsheet.py:188\u001b[39m, in \u001b[36mSpreadsheet.worksheet\u001b[39m\u001b[34m(self, property, value)\u001b[39m\n\u001b[32m    172\u001b[39m \u001b[38;5;28;01mdef\u001b[39;00m\u001b[38;5;250m \u001b[39m\u001b[34mworksheet\u001b[39m(\u001b[38;5;28mself\u001b[39m, \u001b[38;5;28mproperty\u001b[39m=\u001b[33m'\u001b[39m\u001b[33mindex\u001b[39m\u001b[33m'\u001b[39m, value=\u001b[32m0\u001b[39m):\n\u001b[32m    173\u001b[39m \u001b[38;5;250m    \u001b[39m\u001b[33;03m\"\"\"Returns the worksheet with the specified index, title or id.\u001b[39;00m\n\u001b[32m    174\u001b[39m \n\u001b[32m    175\u001b[39m \u001b[33;03m    If several worksheets with the same property are found the first is returned. This may not be the same\u001b[39;00m\n\u001b[32m   (...)\u001b[39m\u001b[32m    186\u001b[39m \u001b[33;03m    :returns: :class:`Worksheets <Worksheet>`.\u001b[39;00m\n\u001b[32m    187\u001b[39m \u001b[33;03m    \"\"\"\u001b[39;00m\n\u001b[32m--> \u001b[39m\u001b[32m188\u001b[39m     \u001b[38;5;28;01mreturn\u001b[39;00m \u001b[38;5;28;43mself\u001b[39;49m\u001b[43m.\u001b[49m\u001b[43mworksheets\u001b[49m\u001b[43m(\u001b[49m\u001b[38;5;28;43mproperty\u001b[39;49m\u001b[43m,\u001b[49m\u001b[43m \u001b[49m\u001b[43mvalue\u001b[49m\u001b[43m)\u001b[49m[\u001b[32m0\u001b[39m]\n",
      "\u001b[36mFile \u001b[39m\u001b[32m~/Library/Caches/pypoetry/virtualenvs/gcp-Y8fSvzbU-py3.12/lib/python3.12/site-packages/pygsheets/spreadsheet.py:169\u001b[39m, in \u001b[36mSpreadsheet.worksheets\u001b[39m\u001b[34m(self, sheet_property, value, force_fetch)\u001b[39m\n\u001b[32m    167\u001b[39m     sheets = [x \u001b[38;5;28;01mfor\u001b[39;00m x \u001b[38;5;129;01min\u001b[39;00m \u001b[38;5;28mself\u001b[39m._sheet_list \u001b[38;5;28;01mif\u001b[39;00m \u001b[38;5;28mgetattr\u001b[39m(x, sheet_property) == value]\n\u001b[32m    168\u001b[39m     \u001b[38;5;28;01mif\u001b[39;00m \u001b[38;5;129;01mnot\u001b[39;00m \u001b[38;5;28mlen\u001b[39m(sheets) > \u001b[32m0\u001b[39m:\n\u001b[32m--> \u001b[39m\u001b[32m169\u001b[39m         \u001b[38;5;28;01mraise\u001b[39;00m WorksheetNotFound()\n\u001b[32m    170\u001b[39m \u001b[38;5;28;01mreturn\u001b[39;00m sheets\n",
      "\u001b[31mWorksheetNotFound\u001b[39m: "
     ]
    }
   ],
   "source": []
  },
  {
   "cell_type": "code",
   "execution_count": null,
   "id": "26f3bcd1",
   "metadata": {},
   "outputs": [],
   "source": []
  }
 ],
 "metadata": {
  "kernelspec": {
   "display_name": "gcp-Y8fSvzbU-py3.12",
   "language": "python",
   "name": "python3"
  },
  "language_info": {
   "codemirror_mode": {
    "name": "ipython",
    "version": 3
   },
   "file_extension": ".py",
   "mimetype": "text/x-python",
   "name": "python",
   "nbconvert_exporter": "python",
   "pygments_lexer": "ipython3",
   "version": "3.12.4"
  }
 },
 "nbformat": 4,
 "nbformat_minor": 5
}
