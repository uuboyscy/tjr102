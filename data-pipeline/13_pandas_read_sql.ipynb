{
 "cells": [
  {
   "cell_type": "code",
   "execution_count": null,
   "id": "3f37cee3",
   "metadata": {},
   "outputs": [],
   "source": [
    "from urllib.parse import quote_plus\n",
    "\n",
    "import pandas as pd\n",
    "from sqlalchemy import create_engine\n",
    "\n",
    "username = quote_plus(\"root\")\n",
    "password = quote_plus(\"pasword\")\n",
    "server = \"127.0.0.1:3306\"\n",
    "db_name = \"TESTDB\"\n",
    "\n",
    "conn = create_engine(\n",
    "    f\"mysql+pymysql://{username}:{password}@{server}/{db_name}?autocommit=true\",\n",
    ").connect()"
   ]
  },
  {
   "cell_type": "code",
   "execution_count": 4,
   "id": "ef0d5d7b",
   "metadata": {},
   "outputs": [
    {
     "data": {
      "text/plain": [
       "'%40'"
      ]
     },
     "execution_count": 4,
     "metadata": {},
     "output_type": "execute_result"
    }
   ],
   "source": [
    "quote_plus(\"@\")"
   ]
  },
  {
   "cell_type": "code",
   "execution_count": 8,
   "id": "b55a98fc",
   "metadata": {},
   "outputs": [
    {
     "data": {
      "text/html": [
       "<div>\n",
       "<style scoped>\n",
       "    .dataframe tbody tr th:only-of-type {\n",
       "        vertical-align: middle;\n",
       "    }\n",
       "\n",
       "    .dataframe tbody tr th {\n",
       "        vertical-align: top;\n",
       "    }\n",
       "\n",
       "    .dataframe thead th {\n",
       "        text-align: right;\n",
       "    }\n",
       "</style>\n",
       "<table border=\"1\" class=\"dataframe\">\n",
       "  <thead>\n",
       "    <tr style=\"text-align: right;\">\n",
       "      <th></th>\n",
       "      <th>ID</th>\n",
       "      <th>Name</th>\n",
       "      <th>DeptId</th>\n",
       "      <th>Age</th>\n",
       "      <th>Gender</th>\n",
       "      <th>Salary</th>\n",
       "      <th>recordDt</th>\n",
       "    </tr>\n",
       "  </thead>\n",
       "  <tbody>\n",
       "    <tr>\n",
       "      <th>0</th>\n",
       "      <td>001</td>\n",
       "      <td>Mike</td>\n",
       "      <td>002</td>\n",
       "      <td>45</td>\n",
       "      <td>M</td>\n",
       "      <td>60000</td>\n",
       "      <td>2020-10-13 21:41:49</td>\n",
       "    </tr>\n",
       "    <tr>\n",
       "      <th>1</th>\n",
       "      <td>002</td>\n",
       "      <td>Judy</td>\n",
       "      <td>002</td>\n",
       "      <td>30</td>\n",
       "      <td>F</td>\n",
       "      <td>48000</td>\n",
       "      <td>2020-10-13 21:41:49</td>\n",
       "    </tr>\n",
       "    <tr>\n",
       "      <th>2</th>\n",
       "      <td>003</td>\n",
       "      <td>Allen</td>\n",
       "      <td>001</td>\n",
       "      <td>22</td>\n",
       "      <td>M</td>\n",
       "      <td>50000</td>\n",
       "      <td>2020-10-13 21:41:49</td>\n",
       "    </tr>\n",
       "    <tr>\n",
       "      <th>3</th>\n",
       "      <td>004</td>\n",
       "      <td>Tom</td>\n",
       "      <td>002</td>\n",
       "      <td>47</td>\n",
       "      <td>M</td>\n",
       "      <td>47000</td>\n",
       "      <td>2020-10-13 21:41:49</td>\n",
       "    </tr>\n",
       "    <tr>\n",
       "      <th>4</th>\n",
       "      <td>005</td>\n",
       "      <td>Jack</td>\n",
       "      <td>003</td>\n",
       "      <td>36</td>\n",
       "      <td>M</td>\n",
       "      <td>52000</td>\n",
       "      <td>2020-10-13 21:41:49</td>\n",
       "    </tr>\n",
       "    <tr>\n",
       "      <th>5</th>\n",
       "      <td>006</td>\n",
       "      <td>Abby</td>\n",
       "      <td>002</td>\n",
       "      <td>24</td>\n",
       "      <td>F</td>\n",
       "      <td>45000</td>\n",
       "      <td>2020-10-13 21:41:49</td>\n",
       "    </tr>\n",
       "    <tr>\n",
       "      <th>6</th>\n",
       "      <td>007</td>\n",
       "      <td>Trump</td>\n",
       "      <td>001</td>\n",
       "      <td>80</td>\n",
       "      <td>M</td>\n",
       "      <td>80000</td>\n",
       "      <td>2020-10-13 21:41:49</td>\n",
       "    </tr>\n",
       "    <tr>\n",
       "      <th>7</th>\n",
       "      <td>008</td>\n",
       "      <td>Marry</td>\n",
       "      <td>003</td>\n",
       "      <td>29</td>\n",
       "      <td>F</td>\n",
       "      <td>87000</td>\n",
       "      <td>2020-10-13 21:41:49</td>\n",
       "    </tr>\n",
       "  </tbody>\n",
       "</table>\n",
       "</div>"
      ],
      "text/plain": [
       "    ID   Name DeptId  Age Gender  Salary            recordDt\n",
       "0  001   Mike    002   45      M   60000 2020-10-13 21:41:49\n",
       "1  002   Judy    002   30      F   48000 2020-10-13 21:41:49\n",
       "2  003  Allen    001   22      M   50000 2020-10-13 21:41:49\n",
       "3  004    Tom    002   47      M   47000 2020-10-13 21:41:49\n",
       "4  005   Jack    003   36      M   52000 2020-10-13 21:41:49\n",
       "5  006   Abby    002   24      F   45000 2020-10-13 21:41:49\n",
       "6  007  Trump    001   80      M   80000 2020-10-13 21:41:49\n",
       "7  008  Marry    003   29      F   87000 2020-10-13 21:41:49"
      ]
     },
     "execution_count": 8,
     "metadata": {},
     "output_type": "execute_result"
    }
   ],
   "source": [
    "df = pd.read_sql(\n",
    "    \"select * from Staff\",\n",
    "    conn,\n",
    ")\n",
    "\n",
    "df"
   ]
  },
  {
   "cell_type": "code",
   "execution_count": 10,
   "id": "a0c081f7",
   "metadata": {},
   "outputs": [
    {
     "data": {
      "text/html": [
       "<div>\n",
       "<style scoped>\n",
       "    .dataframe tbody tr th:only-of-type {\n",
       "        vertical-align: middle;\n",
       "    }\n",
       "\n",
       "    .dataframe tbody tr th {\n",
       "        vertical-align: top;\n",
       "    }\n",
       "\n",
       "    .dataframe thead th {\n",
       "        text-align: right;\n",
       "    }\n",
       "</style>\n",
       "<table border=\"1\" class=\"dataframe\">\n",
       "  <thead>\n",
       "    <tr style=\"text-align: right;\">\n",
       "      <th></th>\n",
       "      <th>ID</th>\n",
       "      <th>Name</th>\n",
       "      <th>DeptId</th>\n",
       "      <th>Age</th>\n",
       "      <th>Gender</th>\n",
       "      <th>Salary</th>\n",
       "      <th>recordDt</th>\n",
       "    </tr>\n",
       "  </thead>\n",
       "  <tbody>\n",
       "    <tr>\n",
       "      <th>0</th>\n",
       "      <td>011</td>\n",
       "      <td>Mike</td>\n",
       "      <td>002</td>\n",
       "      <td>45</td>\n",
       "      <td>M</td>\n",
       "      <td>60000</td>\n",
       "      <td>2020-10-13 21:41:49</td>\n",
       "    </tr>\n",
       "    <tr>\n",
       "      <th>1</th>\n",
       "      <td>012</td>\n",
       "      <td>Judy</td>\n",
       "      <td>002</td>\n",
       "      <td>30</td>\n",
       "      <td>F</td>\n",
       "      <td>48000</td>\n",
       "      <td>2020-10-13 21:41:49</td>\n",
       "    </tr>\n",
       "    <tr>\n",
       "      <th>2</th>\n",
       "      <td>013</td>\n",
       "      <td>Allen</td>\n",
       "      <td>001</td>\n",
       "      <td>22</td>\n",
       "      <td>M</td>\n",
       "      <td>50000</td>\n",
       "      <td>2020-10-13 21:41:49</td>\n",
       "    </tr>\n",
       "    <tr>\n",
       "      <th>3</th>\n",
       "      <td>014</td>\n",
       "      <td>Tom</td>\n",
       "      <td>002</td>\n",
       "      <td>47</td>\n",
       "      <td>M</td>\n",
       "      <td>47000</td>\n",
       "      <td>2020-10-13 21:41:49</td>\n",
       "    </tr>\n",
       "    <tr>\n",
       "      <th>4</th>\n",
       "      <td>015</td>\n",
       "      <td>Jack</td>\n",
       "      <td>003</td>\n",
       "      <td>36</td>\n",
       "      <td>M</td>\n",
       "      <td>52000</td>\n",
       "      <td>2020-10-13 21:41:49</td>\n",
       "    </tr>\n",
       "    <tr>\n",
       "      <th>5</th>\n",
       "      <td>016</td>\n",
       "      <td>Abby</td>\n",
       "      <td>002</td>\n",
       "      <td>24</td>\n",
       "      <td>F</td>\n",
       "      <td>45000</td>\n",
       "      <td>2020-10-13 21:41:49</td>\n",
       "    </tr>\n",
       "    <tr>\n",
       "      <th>6</th>\n",
       "      <td>017</td>\n",
       "      <td>Trump</td>\n",
       "      <td>001</td>\n",
       "      <td>80</td>\n",
       "      <td>M</td>\n",
       "      <td>80000</td>\n",
       "      <td>2020-10-13 21:41:49</td>\n",
       "    </tr>\n",
       "    <tr>\n",
       "      <th>7</th>\n",
       "      <td>018</td>\n",
       "      <td>Marry</td>\n",
       "      <td>003</td>\n",
       "      <td>29</td>\n",
       "      <td>F</td>\n",
       "      <td>87000</td>\n",
       "      <td>2020-10-13 21:41:49</td>\n",
       "    </tr>\n",
       "  </tbody>\n",
       "</table>\n",
       "</div>"
      ],
      "text/plain": [
       "    ID   Name DeptId  Age Gender  Salary            recordDt\n",
       "0  011   Mike    002   45      M   60000 2020-10-13 21:41:49\n",
       "1  012   Judy    002   30      F   48000 2020-10-13 21:41:49\n",
       "2  013  Allen    001   22      M   50000 2020-10-13 21:41:49\n",
       "3  014    Tom    002   47      M   47000 2020-10-13 21:41:49\n",
       "4  015   Jack    003   36      M   52000 2020-10-13 21:41:49\n",
       "5  016   Abby    002   24      F   45000 2020-10-13 21:41:49\n",
       "6  017  Trump    001   80      M   80000 2020-10-13 21:41:49\n",
       "7  018  Marry    003   29      F   87000 2020-10-13 21:41:49"
      ]
     },
     "execution_count": 10,
     "metadata": {},
     "output_type": "execute_result"
    }
   ],
   "source": [
    "df[\"ID\"] = df[\"ID\"].str.replace(\"00\", \"01\")\n",
    "df"
   ]
  },
  {
   "cell_type": "code",
   "execution_count": 11,
   "id": "9fd8158f",
   "metadata": {},
   "outputs": [
    {
     "data": {
      "text/plain": [
       "8"
      ]
     },
     "execution_count": 11,
     "metadata": {},
     "output_type": "execute_result"
    }
   ],
   "source": [
    "df.to_sql(\n",
    "    \"Staff\",\n",
    "    conn,\n",
    "    if_exists=\"append\",\n",
    "    index=False,\n",
    ")"
   ]
  },
  {
   "cell_type": "code",
   "execution_count": 12,
   "id": "7b78483c",
   "metadata": {},
   "outputs": [],
   "source": [
    "conn.commit()"
   ]
  },
  {
   "cell_type": "code",
   "execution_count": 13,
   "id": "c9bb9ed9",
   "metadata": {},
   "outputs": [
    {
     "data": {
      "text/plain": [
       "8"
      ]
     },
     "execution_count": 13,
     "metadata": {},
     "output_type": "execute_result"
    }
   ],
   "source": [
    "df.to_sql(\n",
    "    \"Staff\",\n",
    "    conn,\n",
    "    if_exists=\"replace\",\n",
    "    index=False,\n",
    ")"
   ]
  },
  {
   "cell_type": "code",
   "execution_count": 14,
   "id": "78c722c2",
   "metadata": {},
   "outputs": [],
   "source": [
    "df.to_csv(\"staff.csv\")"
   ]
  },
  {
   "cell_type": "code",
   "execution_count": 15,
   "id": "9622301b",
   "metadata": {},
   "outputs": [
    {
     "data": {
      "text/plain": [
       "8"
      ]
     },
     "execution_count": 15,
     "metadata": {},
     "output_type": "execute_result"
    }
   ],
   "source": [
    "df.to_sql(\n",
    "    \"Staff\",\n",
    "    conn,\n",
    "    if_exists=\"replace\",\n",
    ")"
   ]
  },
  {
   "cell_type": "code",
   "execution_count": 16,
   "id": "449e4938",
   "metadata": {},
   "outputs": [],
   "source": [
    "conn.close()"
   ]
  },
  {
   "cell_type": "code",
   "execution_count": 17,
   "id": "d4b159bd",
   "metadata": {},
   "outputs": [
    {
     "data": {
      "text/html": [
       "<div>\n",
       "<style scoped>\n",
       "    .dataframe tbody tr th:only-of-type {\n",
       "        vertical-align: middle;\n",
       "    }\n",
       "\n",
       "    .dataframe tbody tr th {\n",
       "        vertical-align: top;\n",
       "    }\n",
       "\n",
       "    .dataframe thead th {\n",
       "        text-align: right;\n",
       "    }\n",
       "</style>\n",
       "<table border=\"1\" class=\"dataframe\">\n",
       "  <thead>\n",
       "    <tr style=\"text-align: right;\">\n",
       "      <th></th>\n",
       "      <th>index</th>\n",
       "      <th>ID</th>\n",
       "      <th>Name</th>\n",
       "      <th>DeptId</th>\n",
       "      <th>Age</th>\n",
       "      <th>Gender</th>\n",
       "      <th>Salary</th>\n",
       "      <th>recordDt</th>\n",
       "    </tr>\n",
       "  </thead>\n",
       "  <tbody>\n",
       "    <tr>\n",
       "      <th>0</th>\n",
       "      <td>0</td>\n",
       "      <td>011</td>\n",
       "      <td>Mike</td>\n",
       "      <td>002</td>\n",
       "      <td>45</td>\n",
       "      <td>M</td>\n",
       "      <td>60000</td>\n",
       "      <td>2020-10-13 21:41:49</td>\n",
       "    </tr>\n",
       "    <tr>\n",
       "      <th>1</th>\n",
       "      <td>1</td>\n",
       "      <td>012</td>\n",
       "      <td>Judy</td>\n",
       "      <td>002</td>\n",
       "      <td>30</td>\n",
       "      <td>F</td>\n",
       "      <td>48000</td>\n",
       "      <td>2020-10-13 21:41:49</td>\n",
       "    </tr>\n",
       "    <tr>\n",
       "      <th>2</th>\n",
       "      <td>2</td>\n",
       "      <td>013</td>\n",
       "      <td>Allen</td>\n",
       "      <td>001</td>\n",
       "      <td>22</td>\n",
       "      <td>M</td>\n",
       "      <td>50000</td>\n",
       "      <td>2020-10-13 21:41:49</td>\n",
       "    </tr>\n",
       "    <tr>\n",
       "      <th>3</th>\n",
       "      <td>3</td>\n",
       "      <td>014</td>\n",
       "      <td>Tom</td>\n",
       "      <td>002</td>\n",
       "      <td>47</td>\n",
       "      <td>M</td>\n",
       "      <td>47000</td>\n",
       "      <td>2020-10-13 21:41:49</td>\n",
       "    </tr>\n",
       "    <tr>\n",
       "      <th>4</th>\n",
       "      <td>4</td>\n",
       "      <td>015</td>\n",
       "      <td>Jack</td>\n",
       "      <td>003</td>\n",
       "      <td>36</td>\n",
       "      <td>M</td>\n",
       "      <td>52000</td>\n",
       "      <td>2020-10-13 21:41:49</td>\n",
       "    </tr>\n",
       "    <tr>\n",
       "      <th>5</th>\n",
       "      <td>5</td>\n",
       "      <td>016</td>\n",
       "      <td>Abby</td>\n",
       "      <td>002</td>\n",
       "      <td>24</td>\n",
       "      <td>F</td>\n",
       "      <td>45000</td>\n",
       "      <td>2020-10-13 21:41:49</td>\n",
       "    </tr>\n",
       "    <tr>\n",
       "      <th>6</th>\n",
       "      <td>6</td>\n",
       "      <td>017</td>\n",
       "      <td>Trump</td>\n",
       "      <td>001</td>\n",
       "      <td>80</td>\n",
       "      <td>M</td>\n",
       "      <td>80000</td>\n",
       "      <td>2020-10-13 21:41:49</td>\n",
       "    </tr>\n",
       "    <tr>\n",
       "      <th>7</th>\n",
       "      <td>7</td>\n",
       "      <td>018</td>\n",
       "      <td>Marry</td>\n",
       "      <td>003</td>\n",
       "      <td>29</td>\n",
       "      <td>F</td>\n",
       "      <td>87000</td>\n",
       "      <td>2020-10-13 21:41:49</td>\n",
       "    </tr>\n",
       "  </tbody>\n",
       "</table>\n",
       "</div>"
      ],
      "text/plain": [
       "   index   ID   Name DeptId  Age Gender  Salary            recordDt\n",
       "0      0  011   Mike    002   45      M   60000 2020-10-13 21:41:49\n",
       "1      1  012   Judy    002   30      F   48000 2020-10-13 21:41:49\n",
       "2      2  013  Allen    001   22      M   50000 2020-10-13 21:41:49\n",
       "3      3  014    Tom    002   47      M   47000 2020-10-13 21:41:49\n",
       "4      4  015   Jack    003   36      M   52000 2020-10-13 21:41:49\n",
       "5      5  016   Abby    002   24      F   45000 2020-10-13 21:41:49\n",
       "6      6  017  Trump    001   80      M   80000 2020-10-13 21:41:49\n",
       "7      7  018  Marry    003   29      F   87000 2020-10-13 21:41:49"
      ]
     },
     "execution_count": 17,
     "metadata": {},
     "output_type": "execute_result"
    }
   ],
   "source": [
    "with create_engine(\n",
    "    f\"mysql+pymysql://{username}:{password}@{server}/{db_name}?autocommit=true\",\n",
    ").connect() as conn:\n",
    "    df = pd.read_sql(\n",
    "        \"select * from Staff\",\n",
    "        conn,\n",
    "    )\n",
    "\n",
    "df"
   ]
  },
  {
   "cell_type": "code",
   "execution_count": 18,
   "id": "542bf880",
   "metadata": {},
   "outputs": [
    {
     "data": {
      "text/plain": [
       "8"
      ]
     },
     "execution_count": 18,
     "metadata": {},
     "output_type": "execute_result"
    }
   ],
   "source": [
    "len(df)"
   ]
  },
  {
   "cell_type": "code",
   "execution_count": 19,
   "id": "ede8067e",
   "metadata": {},
   "outputs": [
    {
     "data": {
      "text/plain": [
       "8"
      ]
     },
     "execution_count": 19,
     "metadata": {},
     "output_type": "execute_result"
    }
   ],
   "source": [
    "df.__len__()"
   ]
  },
  {
   "cell_type": "code",
   "execution_count": null,
   "id": "8e3d34c2",
   "metadata": {},
   "outputs": [],
   "source": []
  }
 ],
 "metadata": {
  "kernelspec": {
   "display_name": "data-pipeline-7UaOT-Hq-py3.12",
   "language": "python",
   "name": "python3"
  },
  "language_info": {
   "codemirror_mode": {
    "name": "ipython",
    "version": 3
   },
   "file_extension": ".py",
   "mimetype": "text/x-python",
   "name": "python",
   "nbconvert_exporter": "python",
   "pygments_lexer": "ipython3",
   "version": "3.12.4"
  }
 },
 "nbformat": 4,
 "nbformat_minor": 5
}
