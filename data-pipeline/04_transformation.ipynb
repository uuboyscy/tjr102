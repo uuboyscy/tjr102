{
 "cells": [
  {
   "cell_type": "code",
   "execution_count": 1,
   "id": "87600b37",
   "metadata": {},
   "outputs": [
    {
     "data": {
      "text/html": [
       "<div>\n",
       "<style scoped>\n",
       "    .dataframe tbody tr th:only-of-type {\n",
       "        vertical-align: middle;\n",
       "    }\n",
       "\n",
       "    .dataframe tbody tr th {\n",
       "        vertical-align: top;\n",
       "    }\n",
       "\n",
       "    .dataframe thead th {\n",
       "        text-align: right;\n",
       "    }\n",
       "</style>\n",
       "<table border=\"1\" class=\"dataframe\">\n",
       "  <thead>\n",
       "    <tr style=\"text-align: right;\">\n",
       "      <th></th>\n",
       "      <th>推</th>\n",
       "      <th>噓</th>\n",
       "      <th>分數</th>\n",
       "      <th>作者</th>\n",
       "      <th>標題</th>\n",
       "      <th>時間</th>\n",
       "    </tr>\n",
       "  </thead>\n",
       "  <tbody>\n",
       "    <tr>\n",
       "      <th>0</th>\n",
       "      <td>推: 25</td>\n",
       "      <td>噓: 4</td>\n",
       "      <td>分數: 21</td>\n",
       "      <td>作者: Rusnake5566 (魯蛇+56 PTT最強帳號)</td>\n",
       "      <td>標題: [問卦] 兩個候選人選前一個月同時陣亡的可能性</td>\n",
       "      <td>時間: Fri Oct  2 13:56:39 2020</td>\n",
       "    </tr>\n",
       "    <tr>\n",
       "      <th>1</th>\n",
       "      <td>推: 11</td>\n",
       "      <td>噓: 11</td>\n",
       "      <td>分數: 0</td>\n",
       "      <td>作者: LoveMakeLove (ボケ)</td>\n",
       "      <td>標題: [新聞]江啟臣：兩岸是不對稱的戰爭 從募兵改徵兵</td>\n",
       "      <td>時間: Wed Oct  7 18:53:08 2020</td>\n",
       "    </tr>\n",
       "    <tr>\n",
       "      <th>2</th>\n",
       "      <td>推: 20</td>\n",
       "      <td>噓: 0</td>\n",
       "      <td>分數: 20</td>\n",
       "      <td>作者: MintSu (Simon)</td>\n",
       "      <td>標題: [問卦] 如果川普老婆死於武漢肺炎會怎麼樣？</td>\n",
       "      <td>時間: Fri Oct  2 13:30:55 2020</td>\n",
       "    </tr>\n",
       "    <tr>\n",
       "      <th>3</th>\n",
       "      <td>推: 31</td>\n",
       "      <td>噓: 2</td>\n",
       "      <td>分數: 29</td>\n",
       "      <td>作者: seiya2000 (風見)</td>\n",
       "      <td>標題: [問卦] 為什麼古代生物體型可以長到這麼大？</td>\n",
       "      <td>時間: Fri Oct  2 12:35:18 2020</td>\n",
       "    </tr>\n",
       "    <tr>\n",
       "      <th>4</th>\n",
       "      <td>推: 106</td>\n",
       "      <td>噓: 6</td>\n",
       "      <td>分數: 100</td>\n",
       "      <td>作者: kasumi5566 (霞)</td>\n",
       "      <td>標題: [問卦] 支那女生是不是都沒錢修補衣服</td>\n",
       "      <td>時間: Fri Oct  2 13:43:25 2020</td>\n",
       "    </tr>\n",
       "    <tr>\n",
       "      <th>...</th>\n",
       "      <td>...</td>\n",
       "      <td>...</td>\n",
       "      <td>...</td>\n",
       "      <td>...</td>\n",
       "      <td>...</td>\n",
       "      <td>...</td>\n",
       "    </tr>\n",
       "    <tr>\n",
       "      <th>833</th>\n",
       "      <td>推: 10</td>\n",
       "      <td>噓: 1</td>\n",
       "      <td>分數: 9</td>\n",
       "      <td>作者: lockgolden (鎖金)</td>\n",
       "      <td>標題: [問卦] PTT十年後會像無名小站那樣關閉嗎?</td>\n",
       "      <td>時間: Fri Oct  2 14:09:32 2020</td>\n",
       "    </tr>\n",
       "    <tr>\n",
       "      <th>834</th>\n",
       "      <td>推: 7</td>\n",
       "      <td>噓: 0</td>\n",
       "      <td>分數: 7</td>\n",
       "      <td>作者: nothisman (在人海中迷失)</td>\n",
       "      <td>標題: [新聞] 地表「最胖肥熊」出爐！　635kg棕熊挺「</td>\n",
       "      <td>時間: Wed Oct  7 21:00:58 2020</td>\n",
       "    </tr>\n",
       "    <tr>\n",
       "      <th>835</th>\n",
       "      <td>推: 0</td>\n",
       "      <td>噓: 0</td>\n",
       "      <td>分數: 0</td>\n",
       "      <td>作者: wa778895 (oilsunbright)</td>\n",
       "      <td>標題: [問卦] 我是被下套了嗎？</td>\n",
       "      <td>時間: Wed Oct  7 21:27:26 2020</td>\n",
       "    </tr>\n",
       "    <tr>\n",
       "      <th>836</th>\n",
       "      <td>推: 15</td>\n",
       "      <td>噓: 4</td>\n",
       "      <td>分數: 11</td>\n",
       "      <td>作者: stan0720 (Kimo)</td>\n",
       "      <td>標題: [問卦] 認真問 人一天可以走幾公里呀？</td>\n",
       "      <td>時間: Fri Oct  2 14:00:50 2020</td>\n",
       "    </tr>\n",
       "    <tr>\n",
       "      <th>837</th>\n",
       "      <td>推: 5</td>\n",
       "      <td>噓: 0</td>\n",
       "      <td>分數: 5</td>\n",
       "      <td>作者: bigtreelife (Tree)</td>\n",
       "      <td>標題: [問卦] 叫外送的年輕人都是什麼人</td>\n",
       "      <td>時間: Fri Oct  2 15:29:44 2020</td>\n",
       "    </tr>\n",
       "  </tbody>\n",
       "</table>\n",
       "<p>838 rows × 6 columns</p>\n",
       "</div>"
      ],
      "text/plain": [
       "          推      噓       分數                               作者  \\\n",
       "0     推: 25   噓: 4   分數: 21  作者: Rusnake5566 (魯蛇+56 PTT最強帳號)   \n",
       "1     推: 11  噓: 11    分數: 0            作者: LoveMakeLove (ボケ)   \n",
       "2     推: 20   噓: 0   分數: 20               作者: MintSu (Simon)   \n",
       "3     推: 31   噓: 2   分數: 29               作者: seiya2000 (風見)   \n",
       "4    推: 106   噓: 6  分數: 100               作者: kasumi5566 (霞)   \n",
       "..      ...    ...      ...                              ...   \n",
       "833   推: 10   噓: 1    分數: 9              作者: lockgolden (鎖金)   \n",
       "834    推: 7   噓: 0    分數: 7           作者: nothisman (在人海中迷失)   \n",
       "835    推: 0   噓: 0    分數: 0      作者: wa778895 (oilsunbright)   \n",
       "836   推: 15   噓: 4   分數: 11              作者: stan0720 (Kimo)   \n",
       "837    推: 5   噓: 0    分數: 5           作者: bigtreelife (Tree)   \n",
       "\n",
       "                                 標題                            時間  \n",
       "0       標題: [問卦] 兩個候選人選前一個月同時陣亡的可能性  時間: Fri Oct  2 13:56:39 2020  \n",
       "1      標題: [新聞]江啟臣：兩岸是不對稱的戰爭 從募兵改徵兵  時間: Wed Oct  7 18:53:08 2020  \n",
       "2        標題: [問卦] 如果川普老婆死於武漢肺炎會怎麼樣？  時間: Fri Oct  2 13:30:55 2020  \n",
       "3        標題: [問卦] 為什麼古代生物體型可以長到這麼大？  時間: Fri Oct  2 12:35:18 2020  \n",
       "4           標題: [問卦] 支那女生是不是都沒錢修補衣服  時間: Fri Oct  2 13:43:25 2020  \n",
       "..                              ...                           ...  \n",
       "833     標題: [問卦] PTT十年後會像無名小站那樣關閉嗎?  時間: Fri Oct  2 14:09:32 2020  \n",
       "834  標題: [新聞] 地表「最胖肥熊」出爐！　635kg棕熊挺「  時間: Wed Oct  7 21:00:58 2020  \n",
       "835               標題: [問卦] 我是被下套了嗎？  時間: Wed Oct  7 21:27:26 2020  \n",
       "836        標題: [問卦] 認真問 人一天可以走幾公里呀？  時間: Fri Oct  2 14:00:50 2020  \n",
       "837           標題: [問卦] 叫外送的年輕人都是什麼人  時間: Fri Oct  2 15:29:44 2020  \n",
       "\n",
       "[838 rows x 6 columns]"
      ]
     },
     "execution_count": 1,
     "metadata": {},
     "output_type": "execute_result"
    }
   ],
   "source": [
    "import pandas as pd\n",
    "\n",
    "file_path = \"ptt.csv\"\n",
    "\n",
    "df = pd.read_csv(file_path)\n",
    "\n",
    "df"
   ]
  },
  {
   "cell_type": "code",
   "execution_count": 2,
   "id": "3eba6438",
   "metadata": {},
   "outputs": [
    {
     "data": {
      "text/plain": [
       "15"
      ]
     },
     "execution_count": 2,
     "metadata": {},
     "output_type": "execute_result"
    }
   ],
   "source": [
    "def convert_col_to_int(input_str: str) -> int:\n",
    "    \"\"\"Convert '推: 25' to 25\"\"\"\n",
    "    return int(input_str.split(\":\")[1].strip())\n",
    "\n",
    "convert_col_to_int(\"推: 15\")"
   ]
  },
  {
   "cell_type": "code",
   "execution_count": 3,
   "id": "16ef3505",
   "metadata": {},
   "outputs": [
    {
     "data": {
      "text/plain": [
       "0       25\n",
       "1       11\n",
       "2       20\n",
       "3       31\n",
       "4      106\n",
       "      ... \n",
       "833     10\n",
       "834      7\n",
       "835      0\n",
       "836     15\n",
       "837      5\n",
       "Name: 推, Length: 838, dtype: int64"
      ]
     },
     "execution_count": 3,
     "metadata": {},
     "output_type": "execute_result"
    }
   ],
   "source": [
    "df[\"推\"].apply(convert_col_to_int)"
   ]
  },
  {
   "cell_type": "code",
   "execution_count": 4,
   "id": "39f51a99",
   "metadata": {},
   "outputs": [],
   "source": [
    "df[\"推_t\"] = df[\"推\"].apply(convert_col_to_int)"
   ]
  },
  {
   "cell_type": "code",
   "execution_count": 5,
   "id": "afe8c367",
   "metadata": {},
   "outputs": [
    {
     "data": {
      "text/html": [
       "<div>\n",
       "<style scoped>\n",
       "    .dataframe tbody tr th:only-of-type {\n",
       "        vertical-align: middle;\n",
       "    }\n",
       "\n",
       "    .dataframe tbody tr th {\n",
       "        vertical-align: top;\n",
       "    }\n",
       "\n",
       "    .dataframe thead th {\n",
       "        text-align: right;\n",
       "    }\n",
       "</style>\n",
       "<table border=\"1\" class=\"dataframe\">\n",
       "  <thead>\n",
       "    <tr style=\"text-align: right;\">\n",
       "      <th></th>\n",
       "      <th>推</th>\n",
       "      <th>噓</th>\n",
       "      <th>分數</th>\n",
       "      <th>作者</th>\n",
       "      <th>標題</th>\n",
       "      <th>時間</th>\n",
       "      <th>推_t</th>\n",
       "    </tr>\n",
       "  </thead>\n",
       "  <tbody>\n",
       "    <tr>\n",
       "      <th>0</th>\n",
       "      <td>推: 25</td>\n",
       "      <td>噓: 4</td>\n",
       "      <td>分數: 21</td>\n",
       "      <td>作者: Rusnake5566 (魯蛇+56 PTT最強帳號)</td>\n",
       "      <td>標題: [問卦] 兩個候選人選前一個月同時陣亡的可能性</td>\n",
       "      <td>時間: Fri Oct  2 13:56:39 2020</td>\n",
       "      <td>25</td>\n",
       "    </tr>\n",
       "    <tr>\n",
       "      <th>1</th>\n",
       "      <td>推: 11</td>\n",
       "      <td>噓: 11</td>\n",
       "      <td>分數: 0</td>\n",
       "      <td>作者: LoveMakeLove (ボケ)</td>\n",
       "      <td>標題: [新聞]江啟臣：兩岸是不對稱的戰爭 從募兵改徵兵</td>\n",
       "      <td>時間: Wed Oct  7 18:53:08 2020</td>\n",
       "      <td>11</td>\n",
       "    </tr>\n",
       "    <tr>\n",
       "      <th>2</th>\n",
       "      <td>推: 20</td>\n",
       "      <td>噓: 0</td>\n",
       "      <td>分數: 20</td>\n",
       "      <td>作者: MintSu (Simon)</td>\n",
       "      <td>標題: [問卦] 如果川普老婆死於武漢肺炎會怎麼樣？</td>\n",
       "      <td>時間: Fri Oct  2 13:30:55 2020</td>\n",
       "      <td>20</td>\n",
       "    </tr>\n",
       "    <tr>\n",
       "      <th>3</th>\n",
       "      <td>推: 31</td>\n",
       "      <td>噓: 2</td>\n",
       "      <td>分數: 29</td>\n",
       "      <td>作者: seiya2000 (風見)</td>\n",
       "      <td>標題: [問卦] 為什麼古代生物體型可以長到這麼大？</td>\n",
       "      <td>時間: Fri Oct  2 12:35:18 2020</td>\n",
       "      <td>31</td>\n",
       "    </tr>\n",
       "    <tr>\n",
       "      <th>4</th>\n",
       "      <td>推: 106</td>\n",
       "      <td>噓: 6</td>\n",
       "      <td>分數: 100</td>\n",
       "      <td>作者: kasumi5566 (霞)</td>\n",
       "      <td>標題: [問卦] 支那女生是不是都沒錢修補衣服</td>\n",
       "      <td>時間: Fri Oct  2 13:43:25 2020</td>\n",
       "      <td>106</td>\n",
       "    </tr>\n",
       "    <tr>\n",
       "      <th>...</th>\n",
       "      <td>...</td>\n",
       "      <td>...</td>\n",
       "      <td>...</td>\n",
       "      <td>...</td>\n",
       "      <td>...</td>\n",
       "      <td>...</td>\n",
       "      <td>...</td>\n",
       "    </tr>\n",
       "    <tr>\n",
       "      <th>833</th>\n",
       "      <td>推: 10</td>\n",
       "      <td>噓: 1</td>\n",
       "      <td>分數: 9</td>\n",
       "      <td>作者: lockgolden (鎖金)</td>\n",
       "      <td>標題: [問卦] PTT十年後會像無名小站那樣關閉嗎?</td>\n",
       "      <td>時間: Fri Oct  2 14:09:32 2020</td>\n",
       "      <td>10</td>\n",
       "    </tr>\n",
       "    <tr>\n",
       "      <th>834</th>\n",
       "      <td>推: 7</td>\n",
       "      <td>噓: 0</td>\n",
       "      <td>分數: 7</td>\n",
       "      <td>作者: nothisman (在人海中迷失)</td>\n",
       "      <td>標題: [新聞] 地表「最胖肥熊」出爐！　635kg棕熊挺「</td>\n",
       "      <td>時間: Wed Oct  7 21:00:58 2020</td>\n",
       "      <td>7</td>\n",
       "    </tr>\n",
       "    <tr>\n",
       "      <th>835</th>\n",
       "      <td>推: 0</td>\n",
       "      <td>噓: 0</td>\n",
       "      <td>分數: 0</td>\n",
       "      <td>作者: wa778895 (oilsunbright)</td>\n",
       "      <td>標題: [問卦] 我是被下套了嗎？</td>\n",
       "      <td>時間: Wed Oct  7 21:27:26 2020</td>\n",
       "      <td>0</td>\n",
       "    </tr>\n",
       "    <tr>\n",
       "      <th>836</th>\n",
       "      <td>推: 15</td>\n",
       "      <td>噓: 4</td>\n",
       "      <td>分數: 11</td>\n",
       "      <td>作者: stan0720 (Kimo)</td>\n",
       "      <td>標題: [問卦] 認真問 人一天可以走幾公里呀？</td>\n",
       "      <td>時間: Fri Oct  2 14:00:50 2020</td>\n",
       "      <td>15</td>\n",
       "    </tr>\n",
       "    <tr>\n",
       "      <th>837</th>\n",
       "      <td>推: 5</td>\n",
       "      <td>噓: 0</td>\n",
       "      <td>分數: 5</td>\n",
       "      <td>作者: bigtreelife (Tree)</td>\n",
       "      <td>標題: [問卦] 叫外送的年輕人都是什麼人</td>\n",
       "      <td>時間: Fri Oct  2 15:29:44 2020</td>\n",
       "      <td>5</td>\n",
       "    </tr>\n",
       "  </tbody>\n",
       "</table>\n",
       "<p>838 rows × 7 columns</p>\n",
       "</div>"
      ],
      "text/plain": [
       "          推      噓       分數                               作者  \\\n",
       "0     推: 25   噓: 4   分數: 21  作者: Rusnake5566 (魯蛇+56 PTT最強帳號)   \n",
       "1     推: 11  噓: 11    分數: 0            作者: LoveMakeLove (ボケ)   \n",
       "2     推: 20   噓: 0   分數: 20               作者: MintSu (Simon)   \n",
       "3     推: 31   噓: 2   分數: 29               作者: seiya2000 (風見)   \n",
       "4    推: 106   噓: 6  分數: 100               作者: kasumi5566 (霞)   \n",
       "..      ...    ...      ...                              ...   \n",
       "833   推: 10   噓: 1    分數: 9              作者: lockgolden (鎖金)   \n",
       "834    推: 7   噓: 0    分數: 7           作者: nothisman (在人海中迷失)   \n",
       "835    推: 0   噓: 0    分數: 0      作者: wa778895 (oilsunbright)   \n",
       "836   推: 15   噓: 4   分數: 11              作者: stan0720 (Kimo)   \n",
       "837    推: 5   噓: 0    分數: 5           作者: bigtreelife (Tree)   \n",
       "\n",
       "                                 標題                            時間  推_t  \n",
       "0       標題: [問卦] 兩個候選人選前一個月同時陣亡的可能性  時間: Fri Oct  2 13:56:39 2020   25  \n",
       "1      標題: [新聞]江啟臣：兩岸是不對稱的戰爭 從募兵改徵兵  時間: Wed Oct  7 18:53:08 2020   11  \n",
       "2        標題: [問卦] 如果川普老婆死於武漢肺炎會怎麼樣？  時間: Fri Oct  2 13:30:55 2020   20  \n",
       "3        標題: [問卦] 為什麼古代生物體型可以長到這麼大？  時間: Fri Oct  2 12:35:18 2020   31  \n",
       "4           標題: [問卦] 支那女生是不是都沒錢修補衣服  時間: Fri Oct  2 13:43:25 2020  106  \n",
       "..                              ...                           ...  ...  \n",
       "833     標題: [問卦] PTT十年後會像無名小站那樣關閉嗎?  時間: Fri Oct  2 14:09:32 2020   10  \n",
       "834  標題: [新聞] 地表「最胖肥熊」出爐！　635kg棕熊挺「  時間: Wed Oct  7 21:00:58 2020    7  \n",
       "835               標題: [問卦] 我是被下套了嗎？  時間: Wed Oct  7 21:27:26 2020    0  \n",
       "836        標題: [問卦] 認真問 人一天可以走幾公里呀？  時間: Fri Oct  2 14:00:50 2020   15  \n",
       "837           標題: [問卦] 叫外送的年輕人都是什麼人  時間: Fri Oct  2 15:29:44 2020    5  \n",
       "\n",
       "[838 rows x 7 columns]"
      ]
     },
     "execution_count": 5,
     "metadata": {},
     "output_type": "execute_result"
    }
   ],
   "source": [
    "df"
   ]
  },
  {
   "cell_type": "code",
   "execution_count": 6,
   "id": "7ef72391",
   "metadata": {},
   "outputs": [
    {
     "data": {
      "text/plain": [
       "0       4\n",
       "1      11\n",
       "2       0\n",
       "3       2\n",
       "4       6\n",
       "       ..\n",
       "833     1\n",
       "834     0\n",
       "835     0\n",
       "836     4\n",
       "837     0\n",
       "Name: 噓, Length: 838, dtype: int64"
      ]
     },
     "execution_count": 6,
     "metadata": {},
     "output_type": "execute_result"
    }
   ],
   "source": [
    "df[\"噓\"].apply(lambda x: int(x.split(\":\")[1].strip()))"
   ]
  },
  {
   "cell_type": "code",
   "execution_count": 8,
   "id": "5761c753",
   "metadata": {},
   "outputs": [
    {
     "data": {
      "text/html": [
       "<div>\n",
       "<style scoped>\n",
       "    .dataframe tbody tr th:only-of-type {\n",
       "        vertical-align: middle;\n",
       "    }\n",
       "\n",
       "    .dataframe tbody tr th {\n",
       "        vertical-align: top;\n",
       "    }\n",
       "\n",
       "    .dataframe thead th {\n",
       "        text-align: right;\n",
       "    }\n",
       "</style>\n",
       "<table border=\"1\" class=\"dataframe\">\n",
       "  <thead>\n",
       "    <tr style=\"text-align: right;\">\n",
       "      <th></th>\n",
       "      <th>推</th>\n",
       "      <th>噓</th>\n",
       "      <th>分數</th>\n",
       "      <th>作者</th>\n",
       "      <th>標題</th>\n",
       "      <th>時間</th>\n",
       "      <th>推_t</th>\n",
       "      <th>噓_t</th>\n",
       "    </tr>\n",
       "  </thead>\n",
       "  <tbody>\n",
       "    <tr>\n",
       "      <th>0</th>\n",
       "      <td>推: 25</td>\n",
       "      <td>噓: 4</td>\n",
       "      <td>分數: 21</td>\n",
       "      <td>作者: Rusnake5566 (魯蛇+56 PTT最強帳號)</td>\n",
       "      <td>標題: [問卦] 兩個候選人選前一個月同時陣亡的可能性</td>\n",
       "      <td>時間: Fri Oct  2 13:56:39 2020</td>\n",
       "      <td>25</td>\n",
       "      <td>4</td>\n",
       "    </tr>\n",
       "    <tr>\n",
       "      <th>1</th>\n",
       "      <td>推: 11</td>\n",
       "      <td>噓: 11</td>\n",
       "      <td>分數: 0</td>\n",
       "      <td>作者: LoveMakeLove (ボケ)</td>\n",
       "      <td>標題: [新聞]江啟臣：兩岸是不對稱的戰爭 從募兵改徵兵</td>\n",
       "      <td>時間: Wed Oct  7 18:53:08 2020</td>\n",
       "      <td>11</td>\n",
       "      <td>11</td>\n",
       "    </tr>\n",
       "    <tr>\n",
       "      <th>2</th>\n",
       "      <td>推: 20</td>\n",
       "      <td>噓: 0</td>\n",
       "      <td>分數: 20</td>\n",
       "      <td>作者: MintSu (Simon)</td>\n",
       "      <td>標題: [問卦] 如果川普老婆死於武漢肺炎會怎麼樣？</td>\n",
       "      <td>時間: Fri Oct  2 13:30:55 2020</td>\n",
       "      <td>20</td>\n",
       "      <td>0</td>\n",
       "    </tr>\n",
       "    <tr>\n",
       "      <th>3</th>\n",
       "      <td>推: 31</td>\n",
       "      <td>噓: 2</td>\n",
       "      <td>分數: 29</td>\n",
       "      <td>作者: seiya2000 (風見)</td>\n",
       "      <td>標題: [問卦] 為什麼古代生物體型可以長到這麼大？</td>\n",
       "      <td>時間: Fri Oct  2 12:35:18 2020</td>\n",
       "      <td>31</td>\n",
       "      <td>2</td>\n",
       "    </tr>\n",
       "    <tr>\n",
       "      <th>4</th>\n",
       "      <td>推: 106</td>\n",
       "      <td>噓: 6</td>\n",
       "      <td>分數: 100</td>\n",
       "      <td>作者: kasumi5566 (霞)</td>\n",
       "      <td>標題: [問卦] 支那女生是不是都沒錢修補衣服</td>\n",
       "      <td>時間: Fri Oct  2 13:43:25 2020</td>\n",
       "      <td>106</td>\n",
       "      <td>6</td>\n",
       "    </tr>\n",
       "    <tr>\n",
       "      <th>...</th>\n",
       "      <td>...</td>\n",
       "      <td>...</td>\n",
       "      <td>...</td>\n",
       "      <td>...</td>\n",
       "      <td>...</td>\n",
       "      <td>...</td>\n",
       "      <td>...</td>\n",
       "      <td>...</td>\n",
       "    </tr>\n",
       "    <tr>\n",
       "      <th>833</th>\n",
       "      <td>推: 10</td>\n",
       "      <td>噓: 1</td>\n",
       "      <td>分數: 9</td>\n",
       "      <td>作者: lockgolden (鎖金)</td>\n",
       "      <td>標題: [問卦] PTT十年後會像無名小站那樣關閉嗎?</td>\n",
       "      <td>時間: Fri Oct  2 14:09:32 2020</td>\n",
       "      <td>10</td>\n",
       "      <td>1</td>\n",
       "    </tr>\n",
       "    <tr>\n",
       "      <th>834</th>\n",
       "      <td>推: 7</td>\n",
       "      <td>噓: 0</td>\n",
       "      <td>分數: 7</td>\n",
       "      <td>作者: nothisman (在人海中迷失)</td>\n",
       "      <td>標題: [新聞] 地表「最胖肥熊」出爐！　635kg棕熊挺「</td>\n",
       "      <td>時間: Wed Oct  7 21:00:58 2020</td>\n",
       "      <td>7</td>\n",
       "      <td>0</td>\n",
       "    </tr>\n",
       "    <tr>\n",
       "      <th>835</th>\n",
       "      <td>推: 0</td>\n",
       "      <td>噓: 0</td>\n",
       "      <td>分數: 0</td>\n",
       "      <td>作者: wa778895 (oilsunbright)</td>\n",
       "      <td>標題: [問卦] 我是被下套了嗎？</td>\n",
       "      <td>時間: Wed Oct  7 21:27:26 2020</td>\n",
       "      <td>0</td>\n",
       "      <td>0</td>\n",
       "    </tr>\n",
       "    <tr>\n",
       "      <th>836</th>\n",
       "      <td>推: 15</td>\n",
       "      <td>噓: 4</td>\n",
       "      <td>分數: 11</td>\n",
       "      <td>作者: stan0720 (Kimo)</td>\n",
       "      <td>標題: [問卦] 認真問 人一天可以走幾公里呀？</td>\n",
       "      <td>時間: Fri Oct  2 14:00:50 2020</td>\n",
       "      <td>15</td>\n",
       "      <td>4</td>\n",
       "    </tr>\n",
       "    <tr>\n",
       "      <th>837</th>\n",
       "      <td>推: 5</td>\n",
       "      <td>噓: 0</td>\n",
       "      <td>分數: 5</td>\n",
       "      <td>作者: bigtreelife (Tree)</td>\n",
       "      <td>標題: [問卦] 叫外送的年輕人都是什麼人</td>\n",
       "      <td>時間: Fri Oct  2 15:29:44 2020</td>\n",
       "      <td>5</td>\n",
       "      <td>0</td>\n",
       "    </tr>\n",
       "  </tbody>\n",
       "</table>\n",
       "<p>838 rows × 8 columns</p>\n",
       "</div>"
      ],
      "text/plain": [
       "          推      噓       分數                               作者  \\\n",
       "0     推: 25   噓: 4   分數: 21  作者: Rusnake5566 (魯蛇+56 PTT最強帳號)   \n",
       "1     推: 11  噓: 11    分數: 0            作者: LoveMakeLove (ボケ)   \n",
       "2     推: 20   噓: 0   分數: 20               作者: MintSu (Simon)   \n",
       "3     推: 31   噓: 2   分數: 29               作者: seiya2000 (風見)   \n",
       "4    推: 106   噓: 6  分數: 100               作者: kasumi5566 (霞)   \n",
       "..      ...    ...      ...                              ...   \n",
       "833   推: 10   噓: 1    分數: 9              作者: lockgolden (鎖金)   \n",
       "834    推: 7   噓: 0    分數: 7           作者: nothisman (在人海中迷失)   \n",
       "835    推: 0   噓: 0    分數: 0      作者: wa778895 (oilsunbright)   \n",
       "836   推: 15   噓: 4   分數: 11              作者: stan0720 (Kimo)   \n",
       "837    推: 5   噓: 0    分數: 5           作者: bigtreelife (Tree)   \n",
       "\n",
       "                                 標題                            時間  推_t  噓_t  \n",
       "0       標題: [問卦] 兩個候選人選前一個月同時陣亡的可能性  時間: Fri Oct  2 13:56:39 2020   25    4  \n",
       "1      標題: [新聞]江啟臣：兩岸是不對稱的戰爭 從募兵改徵兵  時間: Wed Oct  7 18:53:08 2020   11   11  \n",
       "2        標題: [問卦] 如果川普老婆死於武漢肺炎會怎麼樣？  時間: Fri Oct  2 13:30:55 2020   20    0  \n",
       "3        標題: [問卦] 為什麼古代生物體型可以長到這麼大？  時間: Fri Oct  2 12:35:18 2020   31    2  \n",
       "4           標題: [問卦] 支那女生是不是都沒錢修補衣服  時間: Fri Oct  2 13:43:25 2020  106    6  \n",
       "..                              ...                           ...  ...  ...  \n",
       "833     標題: [問卦] PTT十年後會像無名小站那樣關閉嗎?  時間: Fri Oct  2 14:09:32 2020   10    1  \n",
       "834  標題: [新聞] 地表「最胖肥熊」出爐！　635kg棕熊挺「  時間: Wed Oct  7 21:00:58 2020    7    0  \n",
       "835               標題: [問卦] 我是被下套了嗎？  時間: Wed Oct  7 21:27:26 2020    0    0  \n",
       "836        標題: [問卦] 認真問 人一天可以走幾公里呀？  時間: Fri Oct  2 14:00:50 2020   15    4  \n",
       "837           標題: [問卦] 叫外送的年輕人都是什麼人  時間: Fri Oct  2 15:29:44 2020    5    0  \n",
       "\n",
       "[838 rows x 8 columns]"
      ]
     },
     "execution_count": 8,
     "metadata": {},
     "output_type": "execute_result"
    }
   ],
   "source": [
    "df[\"噓_t\"] = df[\"噓\"].apply(lambda x: int(x.split(\":\")[1].strip()))\n",
    "df"
   ]
  },
  {
   "cell_type": "code",
   "execution_count": 13,
   "id": "a6b8f65a",
   "metadata": {},
   "outputs": [
    {
     "data": {
      "text/plain": [
       "0       [分數,  21]\n",
       "1        [分數,  0]\n",
       "2       [分數,  20]\n",
       "3       [分數,  29]\n",
       "4      [分數,  100]\n",
       "          ...    \n",
       "833      [分數,  9]\n",
       "834      [分數,  7]\n",
       "835      [分數,  0]\n",
       "836     [分數,  11]\n",
       "837      [分數,  5]\n",
       "Name: 分數, Length: 838, dtype: object"
      ]
     },
     "execution_count": 13,
     "metadata": {},
     "output_type": "execute_result"
    }
   ],
   "source": [
    "df[\"分數\"].str.split(\":\")"
   ]
  },
  {
   "cell_type": "code",
   "execution_count": 12,
   "id": "edb9e7df",
   "metadata": {},
   "outputs": [
    {
     "data": {
      "text/plain": [
       "0       21\n",
       "1        0\n",
       "2       20\n",
       "3       29\n",
       "4      100\n",
       "      ... \n",
       "833      9\n",
       "834      7\n",
       "835      0\n",
       "836     11\n",
       "837      5\n",
       "Name: 分數, Length: 838, dtype: int64"
      ]
     },
     "execution_count": 12,
     "metadata": {},
     "output_type": "execute_result"
    }
   ],
   "source": [
    "df[\"分數\"].str.split(\":\").str[1].str.strip().astype(int)"
   ]
  },
  {
   "cell_type": "code",
   "execution_count": 14,
   "id": "0075e727",
   "metadata": {},
   "outputs": [],
   "source": [
    "df[\"分數_t\"] = df[\"分數\"].str.split(\":\").str[1].str.strip().astype(int)"
   ]
  },
  {
   "cell_type": "code",
   "execution_count": 15,
   "id": "0eec91a6",
   "metadata": {},
   "outputs": [
    {
     "data": {
      "text/plain": [
       "Timestamp('2025-07-06 11:01:00')"
      ]
     },
     "execution_count": 15,
     "metadata": {},
     "output_type": "execute_result"
    }
   ],
   "source": [
    "pd.to_datetime(\"2025-07-06 11:01:00\")"
   ]
  },
  {
   "cell_type": "code",
   "execution_count": 16,
   "id": "4ac868d1",
   "metadata": {},
   "outputs": [
    {
     "data": {
      "text/plain": [
       "Timestamp('2025-07-06 11:01:00')"
      ]
     },
     "execution_count": 16,
     "metadata": {},
     "output_type": "execute_result"
    }
   ],
   "source": [
    "pd.to_datetime(\"2025/07/06 11:01:00\")"
   ]
  },
  {
   "cell_type": "code",
   "execution_count": 17,
   "id": "0defa545",
   "metadata": {},
   "outputs": [
    {
     "data": {
      "text/plain": [
       "Timestamp('2025-07-06 11:01:00')"
      ]
     },
     "execution_count": 17,
     "metadata": {},
     "output_type": "execute_result"
    }
   ],
   "source": [
    "pd.to_datetime(\"20250706 11:01:00\")"
   ]
  },
  {
   "cell_type": "code",
   "execution_count": 18,
   "id": "d7c39c1e",
   "metadata": {},
   "outputs": [
    {
     "data": {
      "text/plain": [
       "Timestamp('2020-10-02 13:56:39')"
      ]
     },
     "execution_count": 18,
     "metadata": {},
     "output_type": "execute_result"
    }
   ],
   "source": [
    "pd.to_datetime(\"Fri Oct 2 13:56:39 2020\")"
   ]
  },
  {
   "cell_type": "code",
   "execution_count": 19,
   "id": "80faf897",
   "metadata": {},
   "outputs": [
    {
     "data": {
      "text/plain": [
       "Timestamp('2025-07-06 11:01:00')"
      ]
     },
     "execution_count": 19,
     "metadata": {},
     "output_type": "execute_result"
    }
   ],
   "source": [
    "pd.to_datetime(\"2025-07-06T11:01:00\")"
   ]
  },
  {
   "cell_type": "code",
   "execution_count": 21,
   "id": "672649be",
   "metadata": {},
   "outputs": [
    {
     "data": {
      "text/plain": [
       "Timestamp('2025-07-06 11:01:00+0800', tz='UTC+08:00')"
      ]
     },
     "execution_count": 21,
     "metadata": {},
     "output_type": "execute_result"
    }
   ],
   "source": [
    "pd.to_datetime(\"2025-07-06T11:01:00+08:00\")"
   ]
  },
  {
   "cell_type": "code",
   "execution_count": 22,
   "id": "fd99da8a",
   "metadata": {},
   "outputs": [
    {
     "data": {
      "text/plain": [
       "0      時間: Fri Oct  2 13:56:39 2020\n",
       "1      時間: Wed Oct  7 18:53:08 2020\n",
       "2      時間: Fri Oct  2 13:30:55 2020\n",
       "3      時間: Fri Oct  2 12:35:18 2020\n",
       "4      時間: Fri Oct  2 13:43:25 2020\n",
       "                   ...             \n",
       "833    時間: Fri Oct  2 14:09:32 2020\n",
       "834    時間: Wed Oct  7 21:00:58 2020\n",
       "835    時間: Wed Oct  7 21:27:26 2020\n",
       "836    時間: Fri Oct  2 14:00:50 2020\n",
       "837    時間: Fri Oct  2 15:29:44 2020\n",
       "Name: 時間, Length: 838, dtype: object"
      ]
     },
     "execution_count": 22,
     "metadata": {},
     "output_type": "execute_result"
    }
   ],
   "source": [
    "df[\"時間\"]"
   ]
  },
  {
   "cell_type": "code",
   "execution_count": 26,
   "id": "8be7c261",
   "metadata": {},
   "outputs": [
    {
     "data": {
      "text/plain": [
       "0      Fri Oct  2 13:56:39 2020\n",
       "1      Wed Oct  7 18:53:08 2020\n",
       "2      Fri Oct  2 13:30:55 2020\n",
       "3      Fri Oct  2 12:35:18 2020\n",
       "4      Fri Oct  2 13:43:25 2020\n",
       "                 ...           \n",
       "833    Fri Oct  2 14:09:32 2020\n",
       "834    Wed Oct  7 21:00:58 2020\n",
       "835    Wed Oct  7 21:27:26 2020\n",
       "836    Fri Oct  2 14:00:50 2020\n",
       "837    Fri Oct  2 15:29:44 2020\n",
       "Name: 時間, Length: 838, dtype: object"
      ]
     },
     "execution_count": 26,
     "metadata": {},
     "output_type": "execute_result"
    }
   ],
   "source": [
    "df[\"時間\"].str.split(\"時間: \").str[1].str.strip()"
   ]
  },
  {
   "cell_type": "code",
   "execution_count": 27,
   "id": "24b81baa",
   "metadata": {},
   "outputs": [
    {
     "data": {
      "text/plain": [
       "0     2020-10-02 13:56:39\n",
       "1     2020-10-07 18:53:08\n",
       "2     2020-10-02 13:30:55\n",
       "3     2020-10-02 12:35:18\n",
       "4     2020-10-02 13:43:25\n",
       "              ...        \n",
       "833   2020-10-02 14:09:32\n",
       "834   2020-10-07 21:00:58\n",
       "835   2020-10-07 21:27:26\n",
       "836   2020-10-02 14:00:50\n",
       "837   2020-10-02 15:29:44\n",
       "Name: 時間, Length: 838, dtype: datetime64[ns]"
      ]
     },
     "execution_count": 27,
     "metadata": {},
     "output_type": "execute_result"
    }
   ],
   "source": [
    "pd.to_datetime(\n",
    "    df[\"時間\"].str.split(\"時間: \").str[1].str.strip()\n",
    ")"
   ]
  },
  {
   "cell_type": "code",
   "execution_count": 28,
   "id": "79aa7071",
   "metadata": {},
   "outputs": [
    {
     "data": {
      "text/plain": [
       "0     2020-10-02 13:56:39\n",
       "1     2020-10-07 18:53:08\n",
       "2     2020-10-02 13:30:55\n",
       "3     2020-10-02 12:35:18\n",
       "4     2020-10-02 13:43:25\n",
       "              ...        \n",
       "833   2020-10-02 14:09:32\n",
       "834   2020-10-07 21:00:58\n",
       "835   2020-10-07 21:27:26\n",
       "836   2020-10-02 14:00:50\n",
       "837   2020-10-02 15:29:44\n",
       "Name: 時間, Length: 838, dtype: datetime64[ns]"
      ]
     },
     "execution_count": 28,
     "metadata": {},
     "output_type": "execute_result"
    }
   ],
   "source": [
    "df[\"時間\"].str.split(\"時間: \").str[1].str.strip().apply(pd.to_datetime)"
   ]
  },
  {
   "cell_type": "code",
   "execution_count": 30,
   "id": "e0b16784",
   "metadata": {},
   "outputs": [
    {
     "data": {
      "text/plain": [
       "NaT"
      ]
     },
     "execution_count": 30,
     "metadata": {},
     "output_type": "execute_result"
    }
   ],
   "source": [
    "pd.to_datetime(\"2025-02-30\", errors=\"coerce\")"
   ]
  },
  {
   "cell_type": "code",
   "execution_count": 31,
   "id": "e20fedbe",
   "metadata": {},
   "outputs": [
    {
     "data": {
      "text/plain": [
       "0     2020-10-02 13:56:39\n",
       "1     2020-10-07 18:53:08\n",
       "2     2020-10-02 13:30:55\n",
       "3     2020-10-02 12:35:18\n",
       "4     2020-10-02 13:43:25\n",
       "              ...        \n",
       "833   2020-10-02 14:09:32\n",
       "834   2020-10-07 21:00:58\n",
       "835   2020-10-07 21:27:26\n",
       "836   2020-10-02 14:00:50\n",
       "837   2020-10-02 15:29:44\n",
       "Name: 時間, Length: 838, dtype: datetime64[ns]"
      ]
     },
     "execution_count": 31,
     "metadata": {},
     "output_type": "execute_result"
    }
   ],
   "source": [
    "pd.to_datetime(\n",
    "    df[\"時間\"].str.split(\"時間: \").str[1].str.strip(),\n",
    "    errors=\"coerce\",\n",
    ")"
   ]
  },
  {
   "cell_type": "code",
   "execution_count": 32,
   "id": "a4bef095",
   "metadata": {},
   "outputs": [
    {
     "data": {
      "text/plain": [
       "0     2020-10-02 13:56:39\n",
       "1     2020-10-07 18:53:08\n",
       "2     2020-10-02 13:30:55\n",
       "3     2020-10-02 12:35:18\n",
       "4     2020-10-02 13:43:25\n",
       "              ...        \n",
       "833   2020-10-02 14:09:32\n",
       "834   2020-10-07 21:00:58\n",
       "835   2020-10-07 21:27:26\n",
       "836   2020-10-02 14:00:50\n",
       "837   2020-10-02 15:29:44\n",
       "Name: 時間, Length: 838, dtype: datetime64[ns]"
      ]
     },
     "execution_count": 32,
     "metadata": {},
     "output_type": "execute_result"
    }
   ],
   "source": [
    "df[\"時間\"].str.split(\"時間: \").str[1].str.strip().apply(\n",
    "    lambda x: pd.to_datetime(x, errors=\"coerce\"),\n",
    ")"
   ]
  },
  {
   "cell_type": "code",
   "execution_count": null,
   "id": "76055ebb",
   "metadata": {},
   "outputs": [],
   "source": []
  }
 ],
 "metadata": {
  "kernelspec": {
   "display_name": "data-pipeline-7UaOT-Hq-py3.12",
   "language": "python",
   "name": "python3"
  },
  "language_info": {
   "codemirror_mode": {
    "name": "ipython",
    "version": 3
   },
   "file_extension": ".py",
   "mimetype": "text/x-python",
   "name": "python",
   "nbconvert_exporter": "python",
   "pygments_lexer": "ipython3",
   "version": "3.12.4"
  }
 },
 "nbformat": 4,
 "nbformat_minor": 5
}
