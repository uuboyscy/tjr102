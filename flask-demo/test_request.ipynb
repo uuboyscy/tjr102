{
 "cells": [
  {
   "cell_type": "code",
   "execution_count": 2,
   "id": "cb3a3af1",
   "metadata": {},
   "outputs": [
    {
     "data": {
      "text/plain": [
       "'What is your name?'"
      ]
     },
     "execution_count": 2,
     "metadata": {},
     "output_type": "execute_result"
    }
   ],
   "source": [
    "import requests\n",
    "\n",
    "requests.get(\"http://127.0.0.1:50000/get_param?&test=jhjfkhjfkd\").text"
   ]
  },
  {
   "cell_type": "code",
   "execution_count": null,
   "id": "e8043401",
   "metadata": {},
   "outputs": [
    {
     "data": {
      "text/plain": [
       "{'age': 22, 'department': 'IT', 'emp_id': 'E001', 'name': 'Allen'}"
      ]
     },
     "execution_count": 6,
     "metadata": {},
     "output_type": "execute_result"
    }
   ],
   "source": [
    "import requests\n",
    "\n",
    "API_HOST = \"http://127.0.0.1:50000\"\n",
    "API_ENDPOINT_GET_EMP = \"/api/v1/get_emp_info\"\n",
    "\n",
    "requests.get(\n",
    "    f\"{API_HOST}{API_ENDPOINT_GET_EMP}\",\n",
    "    params={\"emp_id\": \"E001\"},\n",
    ").json()"
   ]
  },
  {
   "cell_type": "code",
   "execution_count": 7,
   "id": "aba41967",
   "metadata": {},
   "outputs": [
    {
     "data": {
      "text/plain": [
       "'\\n    <form method=\"POST\" action=\"/get_form_data\">\\n        Name: <input type=\"text\" name=\"name\"><br>\\n        <input type=\"submit\" value=\"Submit\">\\n    </form>\\n    <h1>Hello Allen!</h1>'"
      ]
     },
     "execution_count": 7,
     "metadata": {},
     "output_type": "execute_result"
    }
   ],
   "source": [
    "import requests\n",
    "\n",
    "API_HOST = \"http://127.0.0.1:50000\"\n",
    "API_ENDPOINT_GET_EMP = \"/get_form_data\"\n",
    "\n",
    "data = {\n",
    "    \"name\": \"Allen\"\n",
    "}\n",
    "\n",
    "requests.post(\n",
    "    f\"{API_HOST}{API_ENDPOINT_GET_EMP}\",\n",
    "    data=data,\n",
    ").text"
   ]
  },
  {
   "cell_type": "code",
   "execution_count": null,
   "id": "09213505",
   "metadata": {},
   "outputs": [],
   "source": []
  }
 ],
 "metadata": {
  "kernelspec": {
   "display_name": "flask-demo-G_KZeg2P-py3.12",
   "language": "python",
   "name": "python3"
  },
  "language_info": {
   "codemirror_mode": {
    "name": "ipython",
    "version": 3
   },
   "file_extension": ".py",
   "mimetype": "text/x-python",
   "name": "python",
   "nbconvert_exporter": "python",
   "pygments_lexer": "ipython3",
   "version": "3.12.4"
  }
 },
 "nbformat": 4,
 "nbformat_minor": 5
}
